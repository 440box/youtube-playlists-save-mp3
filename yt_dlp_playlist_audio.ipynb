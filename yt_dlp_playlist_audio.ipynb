{
  "cells": [
    {
      "cell_type": "markdown",
      "metadata": {
        "id": "P7_DoS3ARXLT"
      },
      "source": [
        "# Download a list of youtube files and save in drive folder\n",
        "<ol>\n",
        "<li>Make a modifiable copy with File -> Open a Copy in colab</li>\n",
        "<li>Mount your drive by clicking the drive icon in the file explorer on the left</li>\n",
        "<li>Modify the youtube in yt_urls</li>\n",
        "<li>Change output_folder to the folder you wish to store mp3's</li>\n",
        "<li>Run cells, et voila, you have youtube playlist as mp3's in your drive</li>\n",
        "</ol>\n",
        "\n",
        "\n",
        "# note: you can test this notebook by just running the cells in order below\n"
      ]
    },
    {
      "cell_type": "markdown",
      "source": [
        "# 1.1 Install software"
      ],
      "metadata": {
        "id": "zHiAFsyaIETc"
      }
    },
    {
      "cell_type": "code",
      "execution_count": null,
      "metadata": {
        "id": "_0SXspzOm7kD"
      },
      "outputs": [],
      "source": [
        "!pip install --upgrade yt_dlp\n",
        "!apt -y install ffmpeg lame"
      ]
    },
    {
      "cell_type": "code",
      "execution_count": null,
      "metadata": {
        "id": "iJPc80V0TyXn"
      },
      "outputs": [],
      "source": [
        "#@title 1.2 Prepare Folders\n",
        "import subprocess, os, sys\n",
        "\n",
        "try:\n",
        "    from google.colab import drive\n",
        "    print(\"Google Colab detected. Using Google Drive.\")\n",
        "    is_colab = True\n",
        "    #@markdown If you connect your Google Drive, you can save the final mp3 files of each run on your drive.\n",
        "    google_drive = True #@param {type:\"boolean\"}\n",
        "\n",
        "except:\n",
        "    is_colab = False\n",
        "    google_drive = False\n",
        "    print(\"Google Colab not detected.\")\n",
        "\n",
        "if is_colab:\n",
        "    if google_drive is True:\n",
        "        drive.mount('/content/drive')\n",
        "        root_path = '/content/drive/MyDrive/music/'\n",
        "    else:\n",
        "        root_path = '/content'\n",
        "else:\n",
        "    root_path = os.getcwd()"
      ]
    },
    {
      "cell_type": "markdown",
      "source": [
        "# a. Change the URLs which one you want to download from youtube yt_urls = ['put it there']\n",
        "# b. change output_folder name to something like /content/drive/MyDrive/music/name_this_folder_how_you_want"
      ],
      "metadata": {
        "id": "k1tmjPasJLdU"
      }
    },
    {
      "cell_type": "code",
      "execution_count": null,
      "metadata": {
        "id": "W7bW6g_AwxfX"
      },
      "outputs": [],
      "source": [
        "# Change the URLs which one you want to download from youtube\n",
        "yt_urls = ['https://www.youtube.com/playlist?list=PLlIZsDS2zc9WfnXFvsL7N2Qo441jkvzRC']\n",
        "\n",
        "# change this to /content/drive/My Drive/folder_you_want\n",
        "output_folder = '/content/drive/My Drive/music/brother_strut/'\n",
        "\n",
        "import os\n",
        "def my_mkdirs(folder):\n",
        "  if os.path.exists(folder)==False:\n",
        "    os.makedirs(folder)\n",
        "my_mkdirs('/content/tmp/')\n",
        "\n",
        "my_mkdirs(output_folder)"
      ]
    },
    {
      "cell_type": "code",
      "execution_count": null,
      "metadata": {
        "id": "S2a09176Ni1w"
      },
      "outputs": [],
      "source": [
        "# download youtube videos and save it co /content/tmp\n",
        "for ind,url in enumerate(yt_urls):\n",
        "  !yt-dlp --restrict-filenames --trim-filenames 25 $url -f 'bestaudio[ext=m4a]' -o 'tmp/%(title)s.m4a'\n",
        "## for username, password and twofactor use options\n",
        "# -u, --username USERNAME\n",
        "#       Login with this account ID\n",
        "# -p, --password PASSWORD\n",
        "#       Account password. If this option is left out, yt-dlp will ask interactively\n",
        "# -2, --twofactor TWOFACTOR\n",
        "#       Two-factor authentication code"
      ]
    },
    {
      "cell_type": "markdown",
      "source": [
        "# Replace 128k below to 256k if you want a better quality and don't care about space and CONVERT to mp3"
      ],
      "metadata": {
        "id": "KwtBWjW3RsIA"
      }
    },
    {
      "cell_type": "code",
      "execution_count": null,
      "metadata": {
        "id": "bZgkWE2czE-o"
      },
      "outputs": [],
      "source": [
        "# convert to mp3 and prepare to move it to drive\n",
        "import glob\n",
        "files = glob.glob('/content/tmp/*')\n",
        "for file in files:\n",
        "  out_file = f'{output_folder}{file[13:-1]}.mp3'\n",
        "  file = file.replace(' ','\\ ')\n",
        "  out_file = out_file.replace(' ','\\ ')\n",
        "  !ffmpeg -i $file -vn -ab 128k -ar 44100 -y $out_file\n",
        "# now yoy can download it from /content/\n"
      ]
    }
  ],
  "metadata": {
    "colab": {
      "provenance": []
    },
    "kernelspec": {
      "display_name": "Python 3",
      "name": "python3"
    }
  },
  "nbformat": 4,
  "nbformat_minor": 0
}
